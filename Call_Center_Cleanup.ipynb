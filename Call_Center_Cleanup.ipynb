{
 "cells": [
  {
   "cell_type": "markdown",
   "id": "331a1c4f",
   "metadata": {},
   "source": [
    "# Call Center Cleanup\n",
    "\n",
    "For this assignment, we will be working with call center data. You can start working on the assignment after the first lesson on Exploratory Data Analysis with pandas. Make sure to read the whole assignment before starting anything! As you code along in the Jupyter notebook, you are asked to make note of the results of your analysis. Do so by clicking on the results box and adding your notes beside each question.\n",
    "\n",
    "## Business Issue and Understanding\n",
    "\n",
    "You are working for a company that has two call centers: the North Call Center and the South Call Center. The company is looking to possibly hire five additional reps to enhance customer experience. Your task is to explore how efficient the current reps are in each branch to determine which branch would benefit from additional assistance.\n",
    "\n",
    "### How the Call Center Works\n",
    "\n",
    "Call center representatives are assigned queues. When calls are assigned to a queue, the call is assigned to the next person in line in the queue. After a call is assigned to a representative, the amount of time between assignment and the call starting is divided into busy minutes and not ready minutes. If the call is incoming and a customer is waiting on the phone for a rep, the time is split into three categories: busy minutes, not ready minutes, and incoming call wait time. Once the rep has the customer on the phone, there might be during call wait time, where the call is put on hold while the rep gets an answer for the customer.\n",
    "\n",
    "### Notes about the Dataset\n",
    "\n",
    "If you haven't worked in a call center before, these notes might help you throughout your analysis.\n",
    "\n",
    "* The call purpose is tagged for each call.\n",
    "* The time of the call is tagged in 1 hour blocks starting at 9:00 AM and ending at 5:00 PM.\n",
    "* Calls are tagged as incoming or outgoing.\n",
    "* Reps are assigned to queues. When the reps are working, they take calls in the order of their queue.\n",
    "* A call that is dropped due to technical error or missed by the center because they have reached maximum capacity is a lost call.\n",
    "* An abandoned call is when the customer hangs up because they have been waiting for too long.\n",
    "* Busy Minutes: the amount of time after a call comes in or needs to go out where the assigned rep is not available because they are busy with other customers.\n",
    "* Not Ready Minutes: the amount of time after a call comes in or needs to go out where the assigned rep is not available because they are not ready (for example, getting water).\n",
    "* Incoming Wait Time - amount of time after assigned rep is available to take the call customer waits for representative to pick up a call. This is tracked in seconds.\n",
    "* During Call Wait Time - amount of time during call that customer has to wait for representative\n",
    "\n",
    "## Getting Started\n",
    "\n",
    "You have two CSVs at your disposal, `NorthCallCenter.csv` and `SouthCallCenter.csv`. Import the appropriate libraries and create two dataframes, one called `north_df` and one called `south_df`."
   ]
  },
  {
   "cell_type": "code",
   "execution_count": 99,
   "id": "f362436b",
   "metadata": {},
   "outputs": [],
   "source": [
    "import pandas as pd\n",
    "import numpy as np\n",
    "import matplotlib.pyplot as plt\n",
    "\n",
    "# Import the appropriate libraries with aliases\n",
    "# Create two new dataframes\n",
    "northCC = pd.read_csv(r'C:\\Users\\willm\\Desktop\\launchcode\\callcenter\\call-center-cleanup-assignment\\NorthCallCenter.csv')\n",
    "southCC = pd.read_csv(r'C:\\Users\\willm\\Desktop\\launchcode\\callcenter\\call-center-cleanup-assignment\\SouthCallCenter.csv')\n",
    "\n"
   ]
  },
  {
   "cell_type": "code",
   "execution_count": 100,
   "id": "8f8488a6",
   "metadata": {},
   "outputs": [
    {
     "data": {
      "text/html": [
       "<div>\n",
       "<style scoped>\n",
       "    .dataframe tbody tr th:only-of-type {\n",
       "        vertical-align: middle;\n",
       "    }\n",
       "\n",
       "    .dataframe tbody tr th {\n",
       "        vertical-align: top;\n",
       "    }\n",
       "\n",
       "    .dataframe thead th {\n",
       "        text-align: right;\n",
       "    }\n",
       "</style>\n",
       "<table border=\"1\" class=\"dataframe\">\n",
       "  <thead>\n",
       "    <tr style=\"text-align: right;\">\n",
       "      <th></th>\n",
       "      <th>Unnamed: 0</th>\n",
       "      <th>Branch</th>\n",
       "      <th>Call Purpose</th>\n",
       "      <th>Time Block</th>\n",
       "      <th>Incoming or Outgoing</th>\n",
       "      <th>Queue</th>\n",
       "      <th>Rep ID</th>\n",
       "      <th>Sale</th>\n",
       "      <th>Lost Call</th>\n",
       "      <th>Abandoned</th>\n",
       "      <th>Busy Minutes</th>\n",
       "      <th>Not Ready Minutes</th>\n",
       "      <th>Incoming Wait Time</th>\n",
       "      <th>During Call Wait Time</th>\n",
       "      <th>Calls</th>\n",
       "    </tr>\n",
       "  </thead>\n",
       "  <tbody>\n",
       "    <tr>\n",
       "      <th>0</th>\n",
       "      <td>0</td>\n",
       "      <td>North</td>\n",
       "      <td>Complaint</td>\n",
       "      <td>9:00 AM</td>\n",
       "      <td>Incoming</td>\n",
       "      <td>B</td>\n",
       "      <td>Brent</td>\n",
       "      <td>NO</td>\n",
       "      <td>0</td>\n",
       "      <td>1</td>\n",
       "      <td>9</td>\n",
       "      <td>2</td>\n",
       "      <td>1.0</td>\n",
       "      <td>4</td>\n",
       "      <td>1</td>\n",
       "    </tr>\n",
       "    <tr>\n",
       "      <th>1</th>\n",
       "      <td>1</td>\n",
       "      <td>North</td>\n",
       "      <td>Sales Support</td>\n",
       "      <td>11:00 AM</td>\n",
       "      <td>Incoming</td>\n",
       "      <td>A</td>\n",
       "      <td>Cam</td>\n",
       "      <td>NO</td>\n",
       "      <td>0</td>\n",
       "      <td>0</td>\n",
       "      <td>11</td>\n",
       "      <td>1</td>\n",
       "      <td>1.0</td>\n",
       "      <td>3</td>\n",
       "      <td>1</td>\n",
       "    </tr>\n",
       "    <tr>\n",
       "      <th>2</th>\n",
       "      <td>2</td>\n",
       "      <td>North</td>\n",
       "      <td>Sales Support</td>\n",
       "      <td>11:00 AM</td>\n",
       "      <td>Incoming</td>\n",
       "      <td>B</td>\n",
       "      <td>Todd</td>\n",
       "      <td>NO</td>\n",
       "      <td>0</td>\n",
       "      <td>0</td>\n",
       "      <td>9</td>\n",
       "      <td>3</td>\n",
       "      <td>1.0</td>\n",
       "      <td>3</td>\n",
       "      <td>1</td>\n",
       "    </tr>\n",
       "    <tr>\n",
       "      <th>3</th>\n",
       "      <td>3</td>\n",
       "      <td>North</td>\n",
       "      <td>Sales Support</td>\n",
       "      <td>4:00 PM</td>\n",
       "      <td>Incoming</td>\n",
       "      <td>B</td>\n",
       "      <td>Brent</td>\n",
       "      <td>NO</td>\n",
       "      <td>0</td>\n",
       "      <td>0</td>\n",
       "      <td>11</td>\n",
       "      <td>2</td>\n",
       "      <td>1.0</td>\n",
       "      <td>4</td>\n",
       "      <td>1</td>\n",
       "    </tr>\n",
       "    <tr>\n",
       "      <th>4</th>\n",
       "      <td>4</td>\n",
       "      <td>North</td>\n",
       "      <td>Product Support</td>\n",
       "      <td>12:00 PM</td>\n",
       "      <td>Incoming</td>\n",
       "      <td>B</td>\n",
       "      <td>Brent</td>\n",
       "      <td>NO</td>\n",
       "      <td>0</td>\n",
       "      <td>0</td>\n",
       "      <td>8</td>\n",
       "      <td>2</td>\n",
       "      <td>1.0</td>\n",
       "      <td>4</td>\n",
       "      <td>1</td>\n",
       "    </tr>\n",
       "    <tr>\n",
       "      <th>...</th>\n",
       "      <td>...</td>\n",
       "      <td>...</td>\n",
       "      <td>...</td>\n",
       "      <td>...</td>\n",
       "      <td>...</td>\n",
       "      <td>...</td>\n",
       "      <td>...</td>\n",
       "      <td>...</td>\n",
       "      <td>...</td>\n",
       "      <td>...</td>\n",
       "      <td>...</td>\n",
       "      <td>...</td>\n",
       "      <td>...</td>\n",
       "      <td>...</td>\n",
       "      <td>...</td>\n",
       "    </tr>\n",
       "    <tr>\n",
       "      <th>240</th>\n",
       "      <td>240</td>\n",
       "      <td>North</td>\n",
       "      <td>Product Support</td>\n",
       "      <td>5:00 PM</td>\n",
       "      <td>Outgoing</td>\n",
       "      <td>B</td>\n",
       "      <td>Brent</td>\n",
       "      <td>NO</td>\n",
       "      <td>0</td>\n",
       "      <td>0</td>\n",
       "      <td>10</td>\n",
       "      <td>2</td>\n",
       "      <td>NaN</td>\n",
       "      <td>3</td>\n",
       "      <td>1</td>\n",
       "    </tr>\n",
       "    <tr>\n",
       "      <th>241</th>\n",
       "      <td>241</td>\n",
       "      <td>North</td>\n",
       "      <td>Product Support</td>\n",
       "      <td>5:00 PM</td>\n",
       "      <td>Outgoing</td>\n",
       "      <td>A</td>\n",
       "      <td>Joe</td>\n",
       "      <td>NO</td>\n",
       "      <td>0</td>\n",
       "      <td>0</td>\n",
       "      <td>8</td>\n",
       "      <td>3</td>\n",
       "      <td>NaN</td>\n",
       "      <td>2</td>\n",
       "      <td>1</td>\n",
       "    </tr>\n",
       "    <tr>\n",
       "      <th>242</th>\n",
       "      <td>242</td>\n",
       "      <td>North</td>\n",
       "      <td>Product Support</td>\n",
       "      <td>5:00 PM</td>\n",
       "      <td>Outgoing</td>\n",
       "      <td>A</td>\n",
       "      <td>Amanda</td>\n",
       "      <td>NO</td>\n",
       "      <td>0</td>\n",
       "      <td>0</td>\n",
       "      <td>12</td>\n",
       "      <td>1</td>\n",
       "      <td>NaN</td>\n",
       "      <td>2</td>\n",
       "      <td>1</td>\n",
       "    </tr>\n",
       "    <tr>\n",
       "      <th>243</th>\n",
       "      <td>243</td>\n",
       "      <td>North</td>\n",
       "      <td>Product Support</td>\n",
       "      <td>5:00 PM</td>\n",
       "      <td>Outgoing</td>\n",
       "      <td>A</td>\n",
       "      <td>Cam</td>\n",
       "      <td>NO</td>\n",
       "      <td>0</td>\n",
       "      <td>0</td>\n",
       "      <td>11</td>\n",
       "      <td>2</td>\n",
       "      <td>NaN</td>\n",
       "      <td>2</td>\n",
       "      <td>1</td>\n",
       "    </tr>\n",
       "    <tr>\n",
       "      <th>244</th>\n",
       "      <td>244</td>\n",
       "      <td>North</td>\n",
       "      <td>Product Support</td>\n",
       "      <td>5:00 PM</td>\n",
       "      <td>Outgoing</td>\n",
       "      <td>B</td>\n",
       "      <td>Xander</td>\n",
       "      <td>NO</td>\n",
       "      <td>0</td>\n",
       "      <td>0</td>\n",
       "      <td>8</td>\n",
       "      <td>1</td>\n",
       "      <td>NaN</td>\n",
       "      <td>4</td>\n",
       "      <td>1</td>\n",
       "    </tr>\n",
       "  </tbody>\n",
       "</table>\n",
       "<p>245 rows × 15 columns</p>\n",
       "</div>"
      ],
      "text/plain": [
       "     Unnamed: 0 Branch     Call Purpose Time Block Incoming or Outgoing Queue  \\\n",
       "0             0  North        Complaint    9:00 AM             Incoming     B   \n",
       "1             1  North    Sales Support   11:00 AM             Incoming     A   \n",
       "2             2  North    Sales Support   11:00 AM             Incoming     B   \n",
       "3             3  North    Sales Support    4:00 PM             Incoming     B   \n",
       "4             4  North  Product Support   12:00 PM             Incoming     B   \n",
       "..          ...    ...              ...        ...                  ...   ...   \n",
       "240         240  North  Product Support    5:00 PM             Outgoing     B   \n",
       "241         241  North  Product Support    5:00 PM             Outgoing     A   \n",
       "242         242  North  Product Support    5:00 PM             Outgoing     A   \n",
       "243         243  North  Product Support    5:00 PM             Outgoing     A   \n",
       "244         244  North  Product Support    5:00 PM             Outgoing     B   \n",
       "\n",
       "     Rep ID Sale  Lost Call  Abandoned  Busy Minutes  Not Ready Minutes  \\\n",
       "0     Brent   NO          0          1             9                  2   \n",
       "1       Cam   NO          0          0            11                  1   \n",
       "2      Todd   NO          0          0             9                  3   \n",
       "3     Brent   NO          0          0            11                  2   \n",
       "4     Brent   NO          0          0             8                  2   \n",
       "..      ...  ...        ...        ...           ...                ...   \n",
       "240   Brent   NO          0          0            10                  2   \n",
       "241     Joe   NO          0          0             8                  3   \n",
       "242  Amanda   NO          0          0            12                  1   \n",
       "243     Cam   NO          0          0            11                  2   \n",
       "244  Xander   NO          0          0             8                  1   \n",
       "\n",
       "     Incoming Wait Time  During Call Wait Time  Calls  \n",
       "0                   1.0                      4      1  \n",
       "1                   1.0                      3      1  \n",
       "2                   1.0                      3      1  \n",
       "3                   1.0                      4      1  \n",
       "4                   1.0                      4      1  \n",
       "..                  ...                    ...    ...  \n",
       "240                 NaN                      3      1  \n",
       "241                 NaN                      2      1  \n",
       "242                 NaN                      2      1  \n",
       "243                 NaN                      2      1  \n",
       "244                 NaN                      4      1  \n",
       "\n",
       "[245 rows x 15 columns]"
      ]
     },
     "metadata": {},
     "output_type": "display_data"
    },
    {
     "data": {
      "text/html": [
       "<div>\n",
       "<style scoped>\n",
       "    .dataframe tbody tr th:only-of-type {\n",
       "        vertical-align: middle;\n",
       "    }\n",
       "\n",
       "    .dataframe tbody tr th {\n",
       "        vertical-align: top;\n",
       "    }\n",
       "\n",
       "    .dataframe thead th {\n",
       "        text-align: right;\n",
       "    }\n",
       "</style>\n",
       "<table border=\"1\" class=\"dataframe\">\n",
       "  <thead>\n",
       "    <tr style=\"text-align: right;\">\n",
       "      <th></th>\n",
       "      <th>Unnamed: 0</th>\n",
       "      <th>Branch</th>\n",
       "      <th>Call Purpose</th>\n",
       "      <th>Time Block</th>\n",
       "      <th>Incoming or Outgoing</th>\n",
       "      <th>Queue</th>\n",
       "      <th>Rep ID</th>\n",
       "      <th>Sale</th>\n",
       "      <th>Lost Call</th>\n",
       "      <th>Abandoned</th>\n",
       "      <th>Busy Minutes</th>\n",
       "      <th>Not Ready Minutes</th>\n",
       "      <th>Incoming Wait Time</th>\n",
       "      <th>During Call Wait Time</th>\n",
       "      <th>Calls</th>\n",
       "    </tr>\n",
       "  </thead>\n",
       "  <tbody>\n",
       "    <tr>\n",
       "      <th>0</th>\n",
       "      <td>0</td>\n",
       "      <td>South</td>\n",
       "      <td>Sales Support</td>\n",
       "      <td>10:00 AM</td>\n",
       "      <td>Incoming</td>\n",
       "      <td>D</td>\n",
       "      <td>Kate</td>\n",
       "      <td>NO</td>\n",
       "      <td>0</td>\n",
       "      <td>0</td>\n",
       "      <td>9</td>\n",
       "      <td>1</td>\n",
       "      <td>1.0</td>\n",
       "      <td>2</td>\n",
       "      <td>1</td>\n",
       "    </tr>\n",
       "    <tr>\n",
       "      <th>1</th>\n",
       "      <td>1</td>\n",
       "      <td>South</td>\n",
       "      <td>Sales Support</td>\n",
       "      <td>10:00 AM</td>\n",
       "      <td>Incoming</td>\n",
       "      <td>C</td>\n",
       "      <td>Eric</td>\n",
       "      <td>NO</td>\n",
       "      <td>0</td>\n",
       "      <td>0</td>\n",
       "      <td>8</td>\n",
       "      <td>2</td>\n",
       "      <td>1.0</td>\n",
       "      <td>4</td>\n",
       "      <td>1</td>\n",
       "    </tr>\n",
       "    <tr>\n",
       "      <th>2</th>\n",
       "      <td>2</td>\n",
       "      <td>South</td>\n",
       "      <td>Sales Support</td>\n",
       "      <td>10:00 AM</td>\n",
       "      <td>Incoming</td>\n",
       "      <td>C</td>\n",
       "      <td>Susan</td>\n",
       "      <td>NO</td>\n",
       "      <td>0</td>\n",
       "      <td>0</td>\n",
       "      <td>10</td>\n",
       "      <td>2</td>\n",
       "      <td>1.0</td>\n",
       "      <td>4</td>\n",
       "      <td>1</td>\n",
       "    </tr>\n",
       "    <tr>\n",
       "      <th>3</th>\n",
       "      <td>3</td>\n",
       "      <td>South</td>\n",
       "      <td>Sales Support</td>\n",
       "      <td>10:00 AM</td>\n",
       "      <td>Incoming</td>\n",
       "      <td>C</td>\n",
       "      <td>Alice</td>\n",
       "      <td>NO</td>\n",
       "      <td>0</td>\n",
       "      <td>0</td>\n",
       "      <td>12</td>\n",
       "      <td>1</td>\n",
       "      <td>1.0</td>\n",
       "      <td>3</td>\n",
       "      <td>1</td>\n",
       "    </tr>\n",
       "    <tr>\n",
       "      <th>4</th>\n",
       "      <td>4</td>\n",
       "      <td>South</td>\n",
       "      <td>Sales Support</td>\n",
       "      <td>12:00 PM</td>\n",
       "      <td>Incoming</td>\n",
       "      <td>C</td>\n",
       "      <td>Sandy</td>\n",
       "      <td>NO</td>\n",
       "      <td>0</td>\n",
       "      <td>0</td>\n",
       "      <td>8</td>\n",
       "      <td>3</td>\n",
       "      <td>1.0</td>\n",
       "      <td>3</td>\n",
       "      <td>1</td>\n",
       "    </tr>\n",
       "    <tr>\n",
       "      <th>...</th>\n",
       "      <td>...</td>\n",
       "      <td>...</td>\n",
       "      <td>...</td>\n",
       "      <td>...</td>\n",
       "      <td>...</td>\n",
       "      <td>...</td>\n",
       "      <td>...</td>\n",
       "      <td>...</td>\n",
       "      <td>...</td>\n",
       "      <td>...</td>\n",
       "      <td>...</td>\n",
       "      <td>...</td>\n",
       "      <td>...</td>\n",
       "      <td>...</td>\n",
       "      <td>...</td>\n",
       "    </tr>\n",
       "    <tr>\n",
       "      <th>309</th>\n",
       "      <td>309</td>\n",
       "      <td>South</td>\n",
       "      <td>Product Support</td>\n",
       "      <td>5:00 PM</td>\n",
       "      <td>Outgoing</td>\n",
       "      <td>D</td>\n",
       "      <td>Helga</td>\n",
       "      <td>NO</td>\n",
       "      <td>0</td>\n",
       "      <td>0</td>\n",
       "      <td>10</td>\n",
       "      <td>3</td>\n",
       "      <td>NaN</td>\n",
       "      <td>4</td>\n",
       "      <td>1</td>\n",
       "    </tr>\n",
       "    <tr>\n",
       "      <th>310</th>\n",
       "      <td>310</td>\n",
       "      <td>South</td>\n",
       "      <td>Product Support</td>\n",
       "      <td>5:00 PM</td>\n",
       "      <td>Outgoing</td>\n",
       "      <td>C</td>\n",
       "      <td>Susan</td>\n",
       "      <td>NO</td>\n",
       "      <td>0</td>\n",
       "      <td>0</td>\n",
       "      <td>12</td>\n",
       "      <td>3</td>\n",
       "      <td>NaN</td>\n",
       "      <td>4</td>\n",
       "      <td>1</td>\n",
       "    </tr>\n",
       "    <tr>\n",
       "      <th>311</th>\n",
       "      <td>311</td>\n",
       "      <td>South</td>\n",
       "      <td>Product Support</td>\n",
       "      <td>5:00 PM</td>\n",
       "      <td>Outgoing</td>\n",
       "      <td>C</td>\n",
       "      <td>Sandy</td>\n",
       "      <td>NO</td>\n",
       "      <td>0</td>\n",
       "      <td>0</td>\n",
       "      <td>9</td>\n",
       "      <td>3</td>\n",
       "      <td>NaN</td>\n",
       "      <td>4</td>\n",
       "      <td>1</td>\n",
       "    </tr>\n",
       "    <tr>\n",
       "      <th>312</th>\n",
       "      <td>312</td>\n",
       "      <td>South</td>\n",
       "      <td>Product Support</td>\n",
       "      <td>5:00 PM</td>\n",
       "      <td>Outgoing</td>\n",
       "      <td>C</td>\n",
       "      <td>Eric</td>\n",
       "      <td>NO</td>\n",
       "      <td>0</td>\n",
       "      <td>0</td>\n",
       "      <td>10</td>\n",
       "      <td>1</td>\n",
       "      <td>NaN</td>\n",
       "      <td>2</td>\n",
       "      <td>1</td>\n",
       "    </tr>\n",
       "    <tr>\n",
       "      <th>313</th>\n",
       "      <td>313</td>\n",
       "      <td>South</td>\n",
       "      <td>Product Support</td>\n",
       "      <td>5:00 PM</td>\n",
       "      <td>Outgoing</td>\n",
       "      <td>D</td>\n",
       "      <td>George</td>\n",
       "      <td>NO</td>\n",
       "      <td>0</td>\n",
       "      <td>0</td>\n",
       "      <td>10</td>\n",
       "      <td>2</td>\n",
       "      <td>NaN</td>\n",
       "      <td>3</td>\n",
       "      <td>1</td>\n",
       "    </tr>\n",
       "  </tbody>\n",
       "</table>\n",
       "<p>314 rows × 15 columns</p>\n",
       "</div>"
      ],
      "text/plain": [
       "     Unnamed: 0 Branch     Call Purpose Time Block Incoming or Outgoing Queue  \\\n",
       "0             0  South    Sales Support   10:00 AM             Incoming     D   \n",
       "1             1  South    Sales Support   10:00 AM             Incoming     C   \n",
       "2             2  South    Sales Support   10:00 AM             Incoming     C   \n",
       "3             3  South    Sales Support   10:00 AM             Incoming     C   \n",
       "4             4  South    Sales Support   12:00 PM             Incoming     C   \n",
       "..          ...    ...              ...        ...                  ...   ...   \n",
       "309         309  South  Product Support    5:00 PM             Outgoing     D   \n",
       "310         310  South  Product Support    5:00 PM             Outgoing     C   \n",
       "311         311  South  Product Support    5:00 PM             Outgoing     C   \n",
       "312         312  South  Product Support    5:00 PM             Outgoing     C   \n",
       "313         313  South  Product Support    5:00 PM             Outgoing     D   \n",
       "\n",
       "     Rep ID Sale  Lost Call  Abandoned  Busy Minutes  Not Ready Minutes  \\\n",
       "0      Kate   NO          0          0             9                  1   \n",
       "1      Eric   NO          0          0             8                  2   \n",
       "2     Susan   NO          0          0            10                  2   \n",
       "3     Alice   NO          0          0            12                  1   \n",
       "4     Sandy   NO          0          0             8                  3   \n",
       "..      ...  ...        ...        ...           ...                ...   \n",
       "309   Helga   NO          0          0            10                  3   \n",
       "310   Susan   NO          0          0            12                  3   \n",
       "311   Sandy   NO          0          0             9                  3   \n",
       "312    Eric   NO          0          0            10                  1   \n",
       "313  George   NO          0          0            10                  2   \n",
       "\n",
       "     Incoming Wait Time  During Call Wait Time  Calls  \n",
       "0                   1.0                      2      1  \n",
       "1                   1.0                      4      1  \n",
       "2                   1.0                      4      1  \n",
       "3                   1.0                      3      1  \n",
       "4                   1.0                      3      1  \n",
       "..                  ...                    ...    ...  \n",
       "309                 NaN                      4      1  \n",
       "310                 NaN                      4      1  \n",
       "311                 NaN                      4      1  \n",
       "312                 NaN                      2      1  \n",
       "313                 NaN                      3      1  \n",
       "\n",
       "[314 rows x 15 columns]"
      ]
     },
     "metadata": {},
     "output_type": "display_data"
    }
   ],
   "source": [
    "\n",
    "pd.set_option('display.max_columns',None)\n",
    "# pd.set_option('display.max_rows',None)\n",
    "pd.set_option('display.max_colwidth',None)\n",
    "\n",
    "display(northCC)\n",
    "display(southCC)"
   ]
  },
  {
   "cell_type": "markdown",
   "id": "b4d3484b",
   "metadata": {},
   "source": [
    "## Task 1: Exploratory Data Analysis\n",
    "\n",
    "Time to do some EDA! In the process of learning more about the two datasets, answer the following questions. Use the code blocks below to begin cleaning your data. At the end of the section, record your answers."
   ]
  },
  {
   "cell_type": "markdown",
   "id": "76898991",
   "metadata": {},
   "source": [
    "#### EDA Question 1A:  How many reps are in the North branch?  "
   ]
  },
  {
   "cell_type": "code",
   "execution_count": 101,
   "id": "ce3eb5e4",
   "metadata": {},
   "outputs": [
    {
     "data": {
      "text/plain": [
       "9"
      ]
     },
     "execution_count": 101,
     "metadata": {},
     "output_type": "execute_result"
    }
   ],
   "source": [
    "# EDA Question 1A solution below:\n",
    "northCC['Rep ID'].dropna().nunique()\n",
    "\n",
    "# There are 9 unique Rep IDs in the North Branch."
   ]
  },
  {
   "cell_type": "markdown",
   "id": "2a9b34d8",
   "metadata": {},
   "source": [
    "#### EDA Question 1B:  How many reps are in the South branch?  "
   ]
  },
  {
   "cell_type": "code",
   "execution_count": 91,
   "id": "3c715bbf",
   "metadata": {},
   "outputs": [
    {
     "data": {
      "text/plain": [
       "11"
      ]
     },
     "execution_count": 91,
     "metadata": {},
     "output_type": "execute_result"
    }
   ],
   "source": [
    "# EDA Question 1B solution Below:\n",
    "southCC[\"Rep ID\"].dropna().nunique()\n",
    "\n",
    "# There are 11 unique Rep IDs in the South Branch"
   ]
  },
  {
   "cell_type": "markdown",
   "id": "a872f045",
   "metadata": {},
   "source": [
    "#### EDA Question 2A:  What is the average busy minutes, not ready minutes, incoming wait time, and during call wait time for the North branch? "
   ]
  },
  {
   "cell_type": "code",
   "execution_count": 102,
   "id": "3759305f",
   "metadata": {},
   "outputs": [
    {
     "data": {
      "text/plain": [
       "Unnamed: 0               122.000000\n",
       "Lost Call                  0.020408\n",
       "Abandoned                  0.028571\n",
       "Busy Minutes               9.987755\n",
       "Not Ready Minutes          1.914286\n",
       "Incoming Wait Time         3.048780\n",
       "During Call Wait Time      2.967347\n",
       "Calls                      1.000000\n",
       "dtype: float64"
      ]
     },
     "metadata": {},
     "output_type": "display_data"
    }
   ],
   "source": [
    "# EDA Question 2B solution Below:\n",
    "numericnorth = northCC.select_dtypes(include='number')\n",
    "\n",
    "avgnorth = numericnorth.agg('mean')\n",
    "display(avgnorth)\n",
    "\n",
    "# Average 'busy minutes' is 9.99. Average 'not ready minutes' is 1.91.\n",
    "# Average 'incoming wait time' is 3.05 minutes. Average 'during call wait time' is 2.97 minutes.\n"
   ]
  },
  {
   "cell_type": "markdown",
   "id": "3851cf3e",
   "metadata": {},
   "source": [
    "#### EDA Question 2B:  What is the average busy minutes, not ready minutes, incoming wait time, and during call wait time for the South branch? "
   ]
  },
  {
   "cell_type": "code",
   "execution_count": 103,
   "id": "a77ec152",
   "metadata": {},
   "outputs": [
    {
     "data": {
      "text/plain": [
       "Unnamed: 0               156.500000\n",
       "Lost Call                  0.035032\n",
       "Abandoned                  0.012739\n",
       "Busy Minutes              10.054140\n",
       "Not Ready Minutes          1.910828\n",
       "Incoming Wait Time         3.000000\n",
       "During Call Wait Time      3.076433\n",
       "Calls                      1.000000\n",
       "dtype: float64"
      ]
     },
     "metadata": {},
     "output_type": "display_data"
    }
   ],
   "source": [
    "# EDA Question 2B solution Below:\n",
    "numericsouth = southCC.select_dtypes(include='number')\n",
    "\n",
    "avgsouth = numericsouth.agg('mean')\n",
    "display(avgsouth)\n",
    "\n",
    "# Average 'busy minutes' is 10.05. Average 'not ready minutes' is 1.91.\n",
    "# Average 'incoming wait time' is 3.00 minutes. Average 'during call wait time' is 3.08 minutes.\n"
   ]
  },
  {
   "cell_type": "markdown",
   "id": "75915553",
   "metadata": {},
   "source": [
    "#### EDA Question 3:  What is the number of calls taken for each time block(Both North and South combined)?"
   ]
  },
  {
   "cell_type": "code",
   "execution_count": 104,
   "id": "49566936",
   "metadata": {},
   "outputs": [
    {
     "name": "stdout",
     "output_type": "stream",
     "text": [
      "Time Block\n",
      "10:00 AM     99\n",
      "11:00 AM     56\n",
      "12:00 PM    120\n",
      "1:00 PM      40\n",
      "2:00 PM      65\n",
      "3:00 PM      73\n",
      "4:00 PM      53\n",
      "5:00 PM      43\n",
      "9:00 AM      10\n",
      "Name: Calls, dtype: int64\n"
     ]
    }
   ],
   "source": [
    "# EDA Question 3 solution Below:\n",
    "\n",
    "groupednorth = northCC.groupby('Time Block')['Calls'].sum()\n",
    "\n",
    "groupedsouth = southCC.groupby('Time Block')['Calls'].sum()\n",
    "\n",
    "groupedtotal = groupednorth.add(groupedsouth, fill_value=0)\n",
    "\n",
    "print(groupedtotal)\n"
   ]
  },
  {
   "cell_type": "markdown",
   "id": "40b1fd3f",
   "metadata": {},
   "source": [
    "##### Record your answers for the EDA section below:\n",
    "- 1a) Reps in the North Branch = 9\n",
    "- 1b) Reps in the South Branch = 11\n",
    "\n",
    "\n",
    "- 2a) North Branch, (round to the nearest hundredth):\n",
    "> - Busy Minutes = 9.99\n",
    "> - Not Ready Minutes = 1.91\n",
    "> - Incoming Wait Time = 3.05\n",
    "> - During Call Wait Time = 2.97\n",
    "- 2b) South Branch, (round to the nearest hundredth):\n",
    "> - Busy Minutes = 10.05\n",
    "> - Not Ready Minutes = 1.91\n",
    "> - Incoming Wait Time = 3.00\n",
    "> - During Call Wait Time = 3.08\n",
    "- 3) Total Calls taken for all branches per time block:\n",
    "> - 9:00AM   = 10\n",
    "> - 10:00AM  = 99\n",
    "> - 11:00AM  = 56\n",
    "> - 12:00PM  = 120\n",
    "> - 1:00PM   = 40\n",
    "> - 2:00PM   = 65\n",
    "> - 3:00PM   = 73\n",
    "> - 4:00PM   = 53\n",
    "> - 5:00PM   = 43\n",
    "\n"
   ]
  },
  {
   "cell_type": "markdown",
   "id": "366bfb19",
   "metadata": {},
   "source": [
    "## Task 2: Cleaning Your Data \n",
    "Now you need to clean up the datasets. When cleaning the datasets, you may find that there isn't dirty data to clean. That is okay! Some questions you need to answer about the data sets.\n",
    "* Add additional code blocks as needed to show how you came to your conclusions. Add comments in your code blocks to help others understand your thinking. "
   ]
  },
  {
   "cell_type": "markdown",
   "id": "c3564d69",
   "metadata": {},
   "source": [
    "#### Cleaning Question 1:  Is there any missing data and if yes explain what you would do with the missing data and why?"
   ]
  },
  {
   "cell_type": "code",
   "execution_count": 63,
   "id": "b77fb574",
   "metadata": {},
   "outputs": [
    {
     "data": {
      "text/plain": [
       "Unnamed: 0                 0\n",
       "Branch                     0\n",
       "Call Purpose               0\n",
       "Time Block                 0\n",
       "Incoming or Outgoing       0\n",
       "Queue                      0\n",
       "Rep ID                     0\n",
       "Sale                       0\n",
       "Lost Call                  0\n",
       "Abandoned                  0\n",
       "Busy Minutes               0\n",
       "Not Ready Minutes          0\n",
       "Incoming Wait Time       163\n",
       "During Call Wait Time      0\n",
       "Calls                      0\n",
       "dtype: int64"
      ]
     },
     "metadata": {},
     "output_type": "display_data"
    },
    {
     "data": {
      "text/plain": [
       "Unnamed: 0                 0\n",
       "Branch                     0\n",
       "Call Purpose               0\n",
       "Time Block                 0\n",
       "Incoming or Outgoing       0\n",
       "Queue                      0\n",
       "Rep ID                     0\n",
       "Sale                       0\n",
       "Lost Call                  0\n",
       "Abandoned                  0\n",
       "Busy Minutes               0\n",
       "Not Ready Minutes          0\n",
       "Incoming Wait Time       188\n",
       "During Call Wait Time      0\n",
       "Calls                      0\n",
       "dtype: int64"
      ]
     },
     "metadata": {},
     "output_type": "display_data"
    }
   ],
   "source": [
    "# Question 1 solution below\n",
    "\n",
    "display(northCC.isna().sum())\n",
    "display(southCC.isna().sum())\n",
    "\n"
   ]
  },
  {
   "cell_type": "markdown",
   "id": "0dc5c568-40db-4889-b82b-64610d8058d2",
   "metadata": {},
   "source": [
    "#### Record your answer below:\n",
    "\n",
    "> Your Answer: There is data missing in the Incoming Wait Time column. "
   ]
  },
  {
   "cell_type": "markdown",
   "id": "dc47f020",
   "metadata": {},
   "source": [
    "#### Cleaning Question 2:  In the North data set, there are two separate \"YES\" values for a sale. Why and how did you rectify the issue?"
   ]
  },
  {
   "cell_type": "code",
   "execution_count": 105,
   "id": "4e0fbad6",
   "metadata": {},
   "outputs": [
    {
     "name": "stdout",
     "output_type": "stream",
     "text": [
      "['NO' 'YES ' 'YES']\n"
     ]
    }
   ],
   "source": [
    "# Cleaning Question 2 solution below:\n",
    "\n",
    "print(northCC['Sale'].unique())\n"
   ]
  },
  {
   "cell_type": "code",
   "execution_count": 106,
   "id": "80b8df81",
   "metadata": {},
   "outputs": [
    {
     "data": {
      "text/plain": [
       "0      NO\n",
       "1      NO\n",
       "2      NO\n",
       "3      NO\n",
       "4      NO\n",
       "       ..\n",
       "240    NO\n",
       "241    NO\n",
       "242    NO\n",
       "243    NO\n",
       "244    NO\n",
       "Name: Sale, Length: 245, dtype: object"
      ]
     },
     "execution_count": 106,
     "metadata": {},
     "output_type": "execute_result"
    }
   ],
   "source": [
    "northCC['Sale'].str.rstrip()"
   ]
  },
  {
   "cell_type": "markdown",
   "id": "cf81b612-eb6b-45a6-ac8e-d6f4e08131a8",
   "metadata": {},
   "source": [
    "##### Record your answer by below:\n",
    "> Your Answer: "
   ]
  },
  {
   "cell_type": "markdown",
   "id": "715f375a",
   "metadata": {},
   "source": [
    "#### Cleaning Question 3:  Are there duplicates in the two data sets? If there are, how did you handle them?"
   ]
  },
  {
   "cell_type": "code",
   "execution_count": 107,
   "id": "2323673a",
   "metadata": {},
   "outputs": [
    {
     "name": "stdout",
     "output_type": "stream",
     "text": [
      "Empty DataFrame\n",
      "Columns: [Unnamed: 0, Branch, Call Purpose, Time Block, Incoming or Outgoing, Queue, Rep ID, Sale, Lost Call, Abandoned, Busy Minutes, Not Ready Minutes, Incoming Wait Time, During Call Wait Time, Calls]\n",
      "Index: []\n",
      "Empty DataFrame\n",
      "Columns: [Unnamed: 0, Branch, Call Purpose, Time Block, Incoming or Outgoing, Queue, Rep ID, Sale, Lost Call, Abandoned, Busy Minutes, Not Ready Minutes, Incoming Wait Time, During Call Wait Time, Calls]\n",
      "Index: []\n"
     ]
    }
   ],
   "source": [
    "# Cleaning Question 3 solution below:\n",
    "\n",
    "northdupes = northCC[northCC.duplicated()]\n",
    "southdupes = southCC[southCC.duplicated()]\n",
    "\n",
    "print(northdupes)\n",
    "print(southdupes)"
   ]
  },
  {
   "cell_type": "markdown",
   "id": "4fbfe2e8-490a-48dc-b0ca-599879076c62",
   "metadata": {},
   "source": [
    "##### Record your answer below:\n",
    "> Your Answer: There are no duplicates, but if there had been I would have used the .drop_duplicates() function on each dataframe."
   ]
  },
  {
   "cell_type": "markdown",
   "id": "8ffaa865",
   "metadata": {},
   "source": [
    "#### Cleaning Question 4:  Is any of the data in the two data sets unnecessary? If yes, how did you handle it?"
   ]
  },
  {
   "cell_type": "code",
   "execution_count": 108,
   "id": "78b45e70",
   "metadata": {},
   "outputs": [],
   "source": [
    "# Cleaning Question 4 solution below:\n",
    "northCC.drop(columns=['Unnamed: 0'], inplace=True)\n",
    "southCC.drop(columns=['Unnamed: 0'], inplace=True)"
   ]
  },
  {
   "cell_type": "markdown",
   "id": "689e76b9-64d2-45d7-883a-b8c4d822e0c8",
   "metadata": {},
   "source": [
    "##### Record your answer below:\n",
    "> Your Answer: 'Unnamed: 0' was just a duplicate of the index, and 'Calls' only contained 1s. I dropped them from the dataset by using the .drop function."
   ]
  },
  {
   "cell_type": "markdown",
   "id": "73342a9a",
   "metadata": {},
   "source": [
    "## Task 3: Data Manipulation\n",
    "Before you begin answering any questions, combine the two datasets together to create a third dataframe called df. You can use this third dataframe to compare the two call centers to company-wide trends.\n",
    "* Add additional code blocks as needed to show how you came to your conclusions. Add comments in your code blocks to help others understand your thinking. Record your answer below."
   ]
  },
  {
   "cell_type": "code",
   "execution_count": 113,
   "id": "e9705c34",
   "metadata": {},
   "outputs": [
    {
     "name": "stdout",
     "output_type": "stream",
     "text": [
      "    Branch     Call Purpose Time Block Incoming or Outgoing Queue  Rep ID  \\\n",
      "0    North        Complaint    9:00 AM             Incoming     B   Brent   \n",
      "1    North    Sales Support   11:00 AM             Incoming     A     Cam   \n",
      "2    North    Sales Support   11:00 AM             Incoming     B    Todd   \n",
      "3    North    Sales Support    4:00 PM             Incoming     B   Brent   \n",
      "4    North  Product Support   12:00 PM             Incoming     B   Brent   \n",
      "..     ...              ...        ...                  ...   ...     ...   \n",
      "309  South  Product Support    5:00 PM             Outgoing     D   Helga   \n",
      "310  South  Product Support    5:00 PM             Outgoing     C   Susan   \n",
      "311  South  Product Support    5:00 PM             Outgoing     C   Sandy   \n",
      "312  South  Product Support    5:00 PM             Outgoing     C    Eric   \n",
      "313  South  Product Support    5:00 PM             Outgoing     D  George   \n",
      "\n",
      "    Sale  Lost Call  Abandoned  Busy Minutes  Not Ready Minutes  \\\n",
      "0     NO          0          1             9                  2   \n",
      "1     NO          0          0            11                  1   \n",
      "2     NO          0          0             9                  3   \n",
      "3     NO          0          0            11                  2   \n",
      "4     NO          0          0             8                  2   \n",
      "..   ...        ...        ...           ...                ...   \n",
      "309   NO          0          0            10                  3   \n",
      "310   NO          0          0            12                  3   \n",
      "311   NO          0          0             9                  3   \n",
      "312   NO          0          0            10                  1   \n",
      "313   NO          0          0            10                  2   \n",
      "\n",
      "     Incoming Wait Time  During Call Wait Time  Calls  \n",
      "0                   1.0                      4      1  \n",
      "1                   1.0                      3      1  \n",
      "2                   1.0                      3      1  \n",
      "3                   1.0                      4      1  \n",
      "4                   1.0                      4      1  \n",
      "..                  ...                    ...    ...  \n",
      "309                 NaN                      4      1  \n",
      "310                 NaN                      4      1  \n",
      "311                 NaN                      4      1  \n",
      "312                 NaN                      2      1  \n",
      "313                 NaN                      3      1  \n",
      "\n",
      "[554 rows x 14 columns]\n"
     ]
    }
   ],
   "source": [
    "# Create dataframe for the entire company named df\n",
    "\n",
    "df = pd.concat([northCC,southCC])\n",
    "df = df.drop_duplicates()\n",
    "df.reset_index(drop=True)\n",
    "\n",
    "print(df)"
   ]
  },
  {
   "cell_type": "markdown",
   "id": "7e87dfd1",
   "metadata": {},
   "source": [
    "#### Manipulation Question 1:  Group by Rep ID and sum the resulting structure. Sort by calls to determine which rep in each branch has the highest number of calls."
   ]
  },
  {
   "cell_type": "code",
   "execution_count": 112,
   "id": "3953f09a",
   "metadata": {},
   "outputs": [
    {
     "name": "stdout",
     "output_type": "stream",
     "text": [
      "5\n"
     ]
    }
   ],
   "source": [
    "# Manipulation Question solution below:\n",
    "print(df.duplicated().sum())\n",
    "# grouped = df.groupby(['Branch', 'Rep ID']).count()\n",
    "# print(grouped)"
   ]
  },
  {
   "cell_type": "markdown",
   "id": "7c29838c-1402-4e4b-94c9-050515d8dd18",
   "metadata": {},
   "source": [
    "##### Record your answer below\n",
    "Rep with the hightest number of calls and their total calls:\n",
    "- North Branch = Brent (37)\n",
    "- South Branch = Eric (35)"
   ]
  },
  {
   "cell_type": "markdown",
   "id": "809293b9",
   "metadata": {},
   "source": [
    "#### Manipulation Question 2:  The average call abandonment rate is a KPI when it comes to determining call center efficiency. As you may recall, abandoned calls are calls where the customer hangs up due to long call times. What is the average call abandonment rate for each branch and the whole company? Do any of these fall out of the optimal range of 2-5%?"
   ]
  },
  {
   "cell_type": "code",
   "execution_count": 80,
   "id": "3dff7534",
   "metadata": {},
   "outputs": [
    {
     "name": "stdout",
     "output_type": "stream",
     "text": [
      "    Branch     Call Purpose Time Block Incoming or Outgoing Queue Rep ID Sale  \\\n",
      "253  South  Product Support    2:00 PM             Incoming     D  Randy   NO   \n",
      "259  South  Product Support    5:00 PM             Incoming     D  Randy   NO   \n",
      "260  South        Complaint   11:00 AM             Incoming     D  Randy   NO   \n",
      "265  South        Complaint   12:00 PM             Incoming     D  Randy   NO   \n",
      "267  South    Sales Support   10:00 AM             Incoming     D  Randy   NO   \n",
      "270  South    Sales Support    1:00 PM             Incoming     D  Randy   NO   \n",
      "279  South  Product Support    3:00 PM             Incoming     D  Randy   NO   \n",
      "313  South  Product Support    3:00 PM             Incoming     D  Randy   NO   \n",
      "314  South  Product Support    3:00 PM             Incoming     D  Randy   NO   \n",
      "316  South  Product Support    5:00 PM             Incoming     D  Randy   NO   \n",
      "322  South        Complaint    4:00 PM             Incoming     D  Randy   NO   \n",
      "323  South    Sales Support   10:00 AM             Incoming     D  Randy   NO   \n",
      "339  South  Product Support    3:00 PM             Incoming     D  Randy   NO   \n",
      "360  South  Product Support    2:00 PM             Incoming     D  Randy   NO   \n",
      "362  South  Product Support    5:00 PM             Incoming     D  Randy   NO   \n",
      "366  South        Complaint    1:00 PM             Incoming     D  Randy   NO   \n",
      "378  South  Product Support    1:00 PM             Outgoing     D  Randy   NO   \n",
      "380  South  Product Support    5:00 PM             Outgoing     D  Randy   NO   \n",
      "387  South    Sales Support   10:00 AM             Outgoing     D  Randy   NO   \n",
      "406  South    Sales Support   10:00 AM             Outgoing     D  Randy   NO   \n",
      "411  South    Sales Support   11:00 AM             Outgoing     D  Randy   NO   \n",
      "415  South    Sales Support   11:00 AM             Outgoing     D  Randy   NO   \n",
      "416  South    Sales Support   11:00 AM             Outgoing     D  Randy   NO   \n",
      "418  South    Sales Support   11:00 AM             Outgoing     D  Randy   NO   \n",
      "466  South  Product Support   12:00 PM             Outgoing     D  Randy   NO   \n",
      "468  South  Product Support   12:00 PM             Outgoing     D  Randy   NO   \n",
      "478  South  Product Support   12:00 PM             Outgoing     D  Randy   NO   \n",
      "510  South  Product Support    2:00 PM             Outgoing     D  Randy   NO   \n",
      "511  South  Product Support    2:00 PM             Outgoing     D  Randy   NO   \n",
      "526  South  Product Support    3:00 PM             Outgoing     D  Randy   NO   \n",
      "532  South  Product Support    3:00 PM             Outgoing     D  Randy   NO   \n",
      "539  South  Product Support    4:00 PM             Outgoing     D  Randy   NO   \n",
      "552  South  Product Support    5:00 PM             Outgoing     D  Randy   NO   \n",
      "\n",
      "     Lost Call  Abandoned  Busy Minutes  Not Ready Minutes  \\\n",
      "253          0          0            11                  2   \n",
      "259          0          0            10                  3   \n",
      "260          0          0            12                  3   \n",
      "265          1          0             8                  3   \n",
      "267          0          0            10                  1   \n",
      "270          0          0             9                  2   \n",
      "279          0          0             9                  3   \n",
      "313          0          0            11                  1   \n",
      "314          0          0             9                  1   \n",
      "316          0          0            12                  3   \n",
      "322          0          1            12                  1   \n",
      "323          0          0            11                  1   \n",
      "339          0          0             9                  2   \n",
      "360          0          0             8                  1   \n",
      "362          0          0            10                  1   \n",
      "366          0          0            10                  2   \n",
      "378          1          0             9                  1   \n",
      "380          1          0             9                  3   \n",
      "387          0          0            11                  1   \n",
      "406          0          0            11                  3   \n",
      "411          0          0             8                  3   \n",
      "415          0          0             8                  3   \n",
      "416          0          0             8                  2   \n",
      "418          0          0            11                  2   \n",
      "466          0          0             9                  2   \n",
      "468          0          0            10                  1   \n",
      "478          0          0            10                  3   \n",
      "510          0          0            12                  2   \n",
      "511          0          0            10                  2   \n",
      "526          0          0             8                  3   \n",
      "532          0          0             8                  3   \n",
      "539          0          0             8                  1   \n",
      "552          0          0             9                  1   \n",
      "\n",
      "     Incoming Wait Time  During Call Wait Time  \n",
      "253                 1.0                      4  \n",
      "259                 1.0                      2  \n",
      "260                 1.0                      4  \n",
      "265                 2.0                      3  \n",
      "267                 2.0                      4  \n",
      "270                 2.0                      2  \n",
      "279                 2.0                      3  \n",
      "313                 3.0                      4  \n",
      "314                 3.0                      3  \n",
      "316                 3.0                      4  \n",
      "322                 4.0                      4  \n",
      "323                 4.0                      4  \n",
      "339                 4.0                      4  \n",
      "360                 5.0                      2  \n",
      "362                 5.0                      3  \n",
      "366                 5.0                      4  \n",
      "378                 NaN                      3  \n",
      "380                 NaN                      2  \n",
      "387                 NaN                      3  \n",
      "406                 NaN                      4  \n",
      "411                 NaN                      2  \n",
      "415                 NaN                      2  \n",
      "416                 NaN                      3  \n",
      "418                 NaN                      2  \n",
      "466                 NaN                      4  \n",
      "468                 NaN                      2  \n",
      "478                 NaN                      2  \n",
      "510                 NaN                      2  \n",
      "511                 NaN                      3  \n",
      "526                 NaN                      2  \n",
      "532                 NaN                      3  \n",
      "539                 NaN                      2  \n",
      "552                 NaN                      3  \n"
     ]
    }
   ],
   "source": [
    "# Manipulation Question 2 solution below:\n",
    "\n"
   ]
  },
  {
   "cell_type": "markdown",
   "id": "c284596f-218f-4291-81b6-718ea5671feb",
   "metadata": {},
   "source": [
    "##### Record your answer below:\n",
    "Average Call Abandonment Rates (round to the nearest hundredth):\n",
    "- North Branch = \n",
    "- South Branch = \n",
    "- Company Wide =\n",
    "- Do any of these fall out of the optimal range of 2-5%?"
   ]
  },
  {
   "cell_type": "markdown",
   "id": "598bb1bf",
   "metadata": {},
   "source": [
    "#### Manipulation Question 3:  Service level is another KPI when it comes to measuring call center efficiency. Service level is the percentage of calls answered within a specific number of seconds. In the case of your employer, their ideal time frame is 2 seconds. What is the percentage of calls answered within 2 seconds for each branch and the entire company?"
   ]
  },
  {
   "cell_type": "code",
   "execution_count": 54,
   "id": "2fc8f669",
   "metadata": {},
   "outputs": [],
   "source": [
    "# Manipulation Question 3 solution below:"
   ]
  },
  {
   "cell_type": "markdown",
   "id": "e3a4c9d9-4e11-4e1f-859a-d2c919f7d9ce",
   "metadata": {},
   "source": [
    "##### Record your answer below:\n",
    "Percentage of calls answered within 2 seconds, include # of calls:\n",
    "- North Branch = \n",
    "- South Branch = \n",
    "- Company Wide = "
   ]
  },
  {
   "cell_type": "markdown",
   "id": "7e19e705",
   "metadata": {},
   "source": [
    "#### Manipulation Question 4: For each branch and the entire company, what is the average speed of answer?"
   ]
  },
  {
   "cell_type": "code",
   "execution_count": 55,
   "id": "72a653ed",
   "metadata": {},
   "outputs": [],
   "source": [
    "# Manipulation Question 4 solution below:"
   ]
  },
  {
   "cell_type": "markdown",
   "id": "fb04c65b-442b-48e1-b22c-b2af8b835ffd",
   "metadata": {},
   "source": [
    "##### Record your answer by below:\n",
    "Average speed of answer (rounded to nearest hundredth):\n",
    "- North Branch in seconds = \n",
    "- South Branch in seconds = \n",
    "- Company Wide in seconds = "
   ]
  },
  {
   "cell_type": "markdown",
   "id": "d5f50a40",
   "metadata": {},
   "source": [
    "## Task 4: Visualization\n",
    "\n",
    "Create a visualization for each of the following questions. Some of the code to handle aggregating and storing data may be written for you. For each visualization, you choose the chart style that you feel suits the situation best. Make note of the chart style you chose and why. \n",
    "\n",
    "*NOTE Some questions you may decide to use more than one chart and or chart style."
   ]
  },
  {
   "cell_type": "markdown",
   "id": "66ccf83c",
   "metadata": {},
   "source": [
    "#### Visualization 1:  What is the average abandonment rate per queue?"
   ]
  },
  {
   "cell_type": "code",
   "execution_count": 56,
   "id": "c971d779",
   "metadata": {},
   "outputs": [
    {
     "ename": "AttributeError",
     "evalue": "'NoneType' object has no attribute 'groupby'",
     "output_type": "error",
     "traceback": [
      "\u001b[1;31m---------------------------------------------------------------------------\u001b[0m",
      "\u001b[1;31mAttributeError\u001b[0m                            Traceback (most recent call last)",
      "Cell \u001b[1;32mIn[56], line 7\u001b[0m\n\u001b[0;32m      5\u001b[0m abandonment_rates \u001b[38;5;241m=\u001b[39m {}\n\u001b[0;32m      6\u001b[0m queues \u001b[38;5;241m=\u001b[39m [\u001b[38;5;124m\"\u001b[39m\u001b[38;5;124mA\u001b[39m\u001b[38;5;124m\"\u001b[39m, \u001b[38;5;124m\"\u001b[39m\u001b[38;5;124mB\u001b[39m\u001b[38;5;124m\"\u001b[39m, \u001b[38;5;124m\"\u001b[39m\u001b[38;5;124mC\u001b[39m\u001b[38;5;124m\"\u001b[39m, \u001b[38;5;124m\"\u001b[39m\u001b[38;5;124mD\u001b[39m\u001b[38;5;124m\"\u001b[39m]\n\u001b[1;32m----> 7\u001b[0m queue_dict \u001b[38;5;241m=\u001b[39m \u001b[43mdf\u001b[49m\u001b[38;5;241;43m.\u001b[39;49m\u001b[43mgroupby\u001b[49m(\u001b[38;5;124m\"\u001b[39m\u001b[38;5;124mQueue\u001b[39m\u001b[38;5;124m\"\u001b[39m)\u001b[38;5;241m.\u001b[39magg(\u001b[38;5;124m\"\u001b[39m\u001b[38;5;124msum\u001b[39m\u001b[38;5;124m\"\u001b[39m)\n\u001b[0;32m      8\u001b[0m \u001b[38;5;28;01mfor\u001b[39;00m i \u001b[38;5;129;01min\u001b[39;00m \u001b[38;5;28mrange\u001b[39m(\u001b[38;5;241m4\u001b[39m):\n\u001b[0;32m      9\u001b[0m     abandonment_rates[queues[i]] \u001b[38;5;241m=\u001b[39m queue_dict[\u001b[38;5;124m\"\u001b[39m\u001b[38;5;124mAbandoned\u001b[39m\u001b[38;5;124m\"\u001b[39m][i] \u001b[38;5;241m/\u001b[39m queue_dict[\u001b[38;5;124m\"\u001b[39m\u001b[38;5;124mCalls\u001b[39m\u001b[38;5;124m\"\u001b[39m][i] \n",
      "\u001b[1;31mAttributeError\u001b[0m: 'NoneType' object has no attribute 'groupby'"
     ]
    }
   ],
   "source": [
    "# Create visualization 1 here\n",
    "# Import any additional libraries needed with alias\n",
    "\n",
    "# The dictionary abandonment_rates has the data you need.\n",
    "abandonment_rates = {}\n",
    "queues = [\"A\", \"B\", \"C\", \"D\"]\n",
    "queue_dict = df.groupby(\"Queue\").agg(\"sum\")\n",
    "for i in range(4):\n",
    "    abandonment_rates[queues[i]] = queue_dict[\"Abandoned\"][i] / queue_dict[\"Calls\"][i] \n",
    "\n",
    "#Your code below:\n"
   ]
  },
  {
   "cell_type": "markdown",
   "id": "00a821e7-b296-4950-8889-dacf36ef37fb",
   "metadata": {},
   "source": [
    "##### Record your answer below:\n",
    "\n",
    "> Chart style you chose and why: "
   ]
  },
  {
   "cell_type": "markdown",
   "id": "4a9fc77f",
   "metadata": {},
   "source": [
    "#### Visualization 2: What is the service level percentage and average speed of answer for each rep in the North Branch?"
   ]
  },
  {
   "cell_type": "code",
   "execution_count": null,
   "id": "61f65a7f",
   "metadata": {},
   "outputs": [],
   "source": [
    "# Create visualization 2 here\n",
    "# north_plt contains the data you need for the average speed of answer of each rep\n",
    "\n",
    "north_plt = north.groupby(\"Rep ID\")[\"Incoming Wait Time\"].mean().to_frame().reset_index()\n",
    "\n",
    "# Finding each Rep's Personal Service Level Percentage.  Basically, Calls within 2 secs / total calls\n",
    "\n",
    "# Table 1: Total Incoming calls less than 2 seconds grouped by Rep\n",
    "quick_calls = north[north[\"Incoming Wait Time\"] <= 2.0]\n",
    "quick_reps = quick_calls[[\"Rep ID\", \"Calls\"]]\n",
    "quick_stats = quick_reps.groupby([\"Rep ID\"]).sum()  # Final Table\n",
    "\n",
    "\n",
    "# Table 2: Total Incoming Calls Only grouped by Rep\n",
    "total_calls_in = north[north[\"Incoming or Outgoing\"] == \"Incoming\"]\n",
    "rep_calls = total_calls_in[[\"Rep ID\", \"Calls\"]]     \n",
    "total_stats = rep_calls.groupby([\"Rep ID\"]).sum() # Final Table  \n",
    "\n",
    "#  Table 3: Service Level Percentage created via merge\n",
    "service_level = pd.merge(quick_stats, total_stats, on=\"Rep ID\")\n",
    "\n",
    "# Create Percentage Column in Table 3\n",
    "service_level[\"Service Level %\"] = service_level[\"Calls_x\"]/service_level[\"Calls_y\"] * 100\n",
    "\n",
    "#Your Code Here:\n"
   ]
  },
  {
   "cell_type": "markdown",
   "id": "4d4cad4d-f9fb-4927-8a45-4b5cd17edd3a",
   "metadata": {},
   "source": [
    "##### Record your answer below:\n",
    "\n",
    "> Chart style you chose and why: "
   ]
  },
  {
   "cell_type": "markdown",
   "id": "f965e41a",
   "metadata": {},
   "source": [
    "#### Visualization 3: For each type of call purpose, how many calls are outgoing vs. incoming?"
   ]
  },
  {
   "cell_type": "code",
   "execution_count": null,
   "id": "44096730",
   "metadata": {},
   "outputs": [],
   "source": [
    "# Create visualization 3 here:\n",
    "# The three dictionaries, complaints, sales_support, and product_support, have the information you need\n",
    "\n",
    "purpose_group = df.groupby(\"Call Purpose\")\n",
    "call_purpose = [\"Complaint\", \"Product Support\", \"Sales Support\"]\n",
    "purpose_counts = purpose_group[\"Incoming or Outgoing\"].value_counts()\n",
    "print(purpose_counts)\n",
    "\n",
    "complaints = purpose_counts[\"Complaint\"].to_dict()\n",
    "sales_support = purpose_counts[\"Sales Support\"].to_dict()\n",
    "product_support = purpose_counts[\"Product Support\"].to_dict()\n",
    "\n",
    "#Your Code Here:\n"
   ]
  },
  {
   "cell_type": "markdown",
   "id": "9198bbe4-44ef-4e21-bd40-6ace8e9f7694",
   "metadata": {},
   "source": [
    "##### Record your answer below:\n",
    "\n",
    "> Chart style you chose and why: "
   ]
  },
  {
   "cell_type": "markdown",
   "id": "ea7ed568",
   "metadata": {},
   "source": [
    "## Task 5: Summarize Your Work\n",
    "\n",
    "With what you know now about the two call centers and the entire company, answer the following questions. Note that while this is subjective, you should include relevant data to back up your opinion.\n"
   ]
  },
  {
   "cell_type": "markdown",
   "id": "d2fc3d13",
   "metadata": {},
   "source": [
    "#### Summary Question 1:  Using KPIs such as average abandonment rate, service level and average speed of answer, in your opinion, which one of the two branches is operating more efficiently? Why?\n",
    "\n",
    "##### Record your answer below:\n",
    "> Your Answer: \n",
    "\n"
   ]
  },
  {
   "cell_type": "markdown",
   "id": "489f28d6",
   "metadata": {},
   "source": [
    "#### Summary Question 2: Based on the number of reps in each branch and how quickly the reps are working, in your opinion, which branch would benefit from the extra help?\n",
    "\n",
    "##### Record your answer below:\n",
    "> Your Answer: \n"
   ]
  },
  {
   "cell_type": "markdown",
   "id": "0b10a8c3",
   "metadata": {},
   "source": [
    "#### Summary Question 3: Now that you have explored the datasets, is there any data or information that you wish you had in this analysis?\n",
    "\n",
    "##### Record your answer below:\n",
    "> Your Answer: \n"
   ]
  },
  {
   "cell_type": "markdown",
   "id": "ce16f43d",
   "metadata": {},
   "source": [
    "## Bonus Mission\n",
    "Create a visualization that answers this question: For each call purpose, how many calls (incoming and outgoing) take place in each time block?\n",
    "##### Record your answer below:\n",
    "\n",
    "> Chart style you chose and why: "
   ]
  },
  {
   "cell_type": "code",
   "execution_count": null,
   "id": "71b04f32",
   "metadata": {},
   "outputs": [],
   "source": [
    "# Create your Bonus Mission visualization here!\n",
    "call_times = df[[\"Time Block\", \"Call Purpose\", \"Incoming or Outgoing\", \"Calls\"]]\n",
    "\n",
    "# Use groupby to plot based on time blocks:\n",
    "\n",
    "# Use groupby and get_group to select which call purpose to plot:"
   ]
  }
 ],
 "metadata": {
  "kernelspec": {
   "display_name": "Python 3 (ipykernel)",
   "language": "python",
   "name": "python3"
  },
  "language_info": {
   "codemirror_mode": {
    "name": "ipython",
    "version": 3
   },
   "file_extension": ".py",
   "mimetype": "text/x-python",
   "name": "python",
   "nbconvert_exporter": "python",
   "pygments_lexer": "ipython3",
   "version": "3.12.4"
  }
 },
 "nbformat": 4,
 "nbformat_minor": 5
}
